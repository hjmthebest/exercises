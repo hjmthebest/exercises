{
 "cells": [
  {
   "cell_type": "code",
   "execution_count": 4,
   "metadata": {},
   "outputs": [
    {
     "data": {
      "text/plain": [
       "'C:\\\\Users\\\\LOTTE\\\\Desktop'"
      ]
     },
     "execution_count": 4,
     "metadata": {},
     "output_type": "execute_result"
    }
   ],
   "source": [
    "import numpy as np\n",
    "import pandas as pd\n",
    "import seaborn as sns\n",
    "import matplotlib.pyplot as plt\n",
    "\n",
    "import json\n",
    "import os\n",
    "import sys\n",
    "import datetime, time, timeit\n",
    "\n",
    "os.chdir('C:\\\\Users\\\\LOTTE\\\\Desktop')\n",
    "os.getcwd()"
   ]
  },
  {
   "cell_type": "code",
   "execution_count": 5,
   "metadata": {},
   "outputs": [],
   "source": [
    "f = open(r'C:\\Users\\LOTTE\\Desktop\\archive\\home_page_table.csv', 'r', encoding='utf-8')\n",
    "file = f.readlines()\n",
    "f.close()"
   ]
  },
  {
   "cell_type": "code",
   "execution_count": 23,
   "metadata": {},
   "outputs": [],
   "source": [
    "user_table = pd.read_csv(r'C:\\Users\\LOTTE\\Desktop\\archive\\user_table.csv')\n",
    "home_page_table = pd.read_csv(r'C:\\Users\\LOTTE\\Desktop\\archive\\home_page_table.csv')\n",
    "search_page_table = pd.read_csv(r'C:\\Users\\LOTTE\\Desktop\\archive\\search_page_table.csv')\n",
    "payment_page_table = pd.read_csv(r'C:\\Users\\LOTTE\\Desktop\\archive\\payment_page_table.csv')\n",
    "payment_confirmation_table = pd.read_csv(r'C:\\Users\\LOTTE\\Desktop\\archive\\payment_confirmation_table.csv')"
   ]
  },
  {
   "cell_type": "code",
   "execution_count": 28,
   "metadata": {},
   "outputs": [
    {
     "data": {
      "text/html": [
       "<div>\n",
       "<style scoped>\n",
       "    .dataframe tbody tr th:only-of-type {\n",
       "        vertical-align: middle;\n",
       "    }\n",
       "\n",
       "    .dataframe tbody tr th {\n",
       "        vertical-align: top;\n",
       "    }\n",
       "\n",
       "    .dataframe thead th {\n",
       "        text-align: right;\n",
       "    }\n",
       "</style>\n",
       "<table border=\"1\" class=\"dataframe\">\n",
       "  <thead>\n",
       "    <tr style=\"text-align: right;\">\n",
       "      <th></th>\n",
       "      <th>user_id</th>\n",
       "      <th>page</th>\n",
       "    </tr>\n",
       "  </thead>\n",
       "  <tbody>\n",
       "    <tr>\n",
       "      <th>0</th>\n",
       "      <td>313593</td>\n",
       "      <td>home_page</td>\n",
       "    </tr>\n",
       "    <tr>\n",
       "      <th>1</th>\n",
       "      <td>468315</td>\n",
       "      <td>home_page</td>\n",
       "    </tr>\n",
       "    <tr>\n",
       "      <th>2</th>\n",
       "      <td>264005</td>\n",
       "      <td>home_page</td>\n",
       "    </tr>\n",
       "    <tr>\n",
       "      <th>3</th>\n",
       "      <td>290784</td>\n",
       "      <td>home_page</td>\n",
       "    </tr>\n",
       "    <tr>\n",
       "      <th>4</th>\n",
       "      <td>639104</td>\n",
       "      <td>home_page</td>\n",
       "    </tr>\n",
       "    <tr>\n",
       "      <th>...</th>\n",
       "      <td>...</td>\n",
       "      <td>...</td>\n",
       "    </tr>\n",
       "    <tr>\n",
       "      <th>447</th>\n",
       "      <td>397473</td>\n",
       "      <td>payment_confirmation_page</td>\n",
       "    </tr>\n",
       "    <tr>\n",
       "      <th>448</th>\n",
       "      <td>860829</td>\n",
       "      <td>payment_confirmation_page</td>\n",
       "    </tr>\n",
       "    <tr>\n",
       "      <th>449</th>\n",
       "      <td>371291</td>\n",
       "      <td>payment_confirmation_page</td>\n",
       "    </tr>\n",
       "    <tr>\n",
       "      <th>450</th>\n",
       "      <td>263707</td>\n",
       "      <td>payment_confirmation_page</td>\n",
       "    </tr>\n",
       "    <tr>\n",
       "      <th>451</th>\n",
       "      <td>892101</td>\n",
       "      <td>payment_confirmation_page</td>\n",
       "    </tr>\n",
       "  </tbody>\n",
       "</table>\n",
       "<p>142082 rows × 2 columns</p>\n",
       "</div>"
      ],
      "text/plain": [
       "     user_id                       page\n",
       "0     313593                  home_page\n",
       "1     468315                  home_page\n",
       "2     264005                  home_page\n",
       "3     290784                  home_page\n",
       "4     639104                  home_page\n",
       "..       ...                        ...\n",
       "447   397473  payment_confirmation_page\n",
       "448   860829  payment_confirmation_page\n",
       "449   371291  payment_confirmation_page\n",
       "450   263707  payment_confirmation_page\n",
       "451   892101  payment_confirmation_page\n",
       "\n",
       "[142082 rows x 2 columns]"
      ]
     },
     "execution_count": 28,
     "metadata": {},
     "output_type": "execute_result"
    }
   ],
   "source": [
    "frames = [home_page_table, search_page_table, payment_page_table, payment_confirmation_table]\n",
    "new_df = pd.concat(frames)\n",
    "new_df"
   ]
  },
  {
   "cell_type": "code",
   "execution_count": 35,
   "metadata": {},
   "outputs": [
    {
     "data": {
      "text/html": [
       "<div>\n",
       "<style scoped>\n",
       "    .dataframe tbody tr th:only-of-type {\n",
       "        vertical-align: middle;\n",
       "    }\n",
       "\n",
       "    .dataframe tbody tr th {\n",
       "        vertical-align: top;\n",
       "    }\n",
       "\n",
       "    .dataframe thead th {\n",
       "        text-align: right;\n",
       "    }\n",
       "</style>\n",
       "<table border=\"1\" class=\"dataframe\">\n",
       "  <thead>\n",
       "    <tr style=\"text-align: right;\">\n",
       "      <th></th>\n",
       "      <th>user_id</th>\n",
       "      <th>date</th>\n",
       "      <th>device</th>\n",
       "      <th>sex</th>\n",
       "      <th>page</th>\n",
       "    </tr>\n",
       "  </thead>\n",
       "  <tbody>\n",
       "    <tr>\n",
       "      <th>0</th>\n",
       "      <td>450007</td>\n",
       "      <td>2015-02-28</td>\n",
       "      <td>Desktop</td>\n",
       "      <td>Female</td>\n",
       "      <td>home_page</td>\n",
       "    </tr>\n",
       "    <tr>\n",
       "      <th>1</th>\n",
       "      <td>756838</td>\n",
       "      <td>2015-01-13</td>\n",
       "      <td>Desktop</td>\n",
       "      <td>Male</td>\n",
       "      <td>home_page</td>\n",
       "    </tr>\n",
       "    <tr>\n",
       "      <th>2</th>\n",
       "      <td>568983</td>\n",
       "      <td>2015-04-09</td>\n",
       "      <td>Desktop</td>\n",
       "      <td>Male</td>\n",
       "      <td>home_page</td>\n",
       "    </tr>\n",
       "    <tr>\n",
       "      <th>3</th>\n",
       "      <td>568983</td>\n",
       "      <td>2015-04-09</td>\n",
       "      <td>Desktop</td>\n",
       "      <td>Male</td>\n",
       "      <td>search_page</td>\n",
       "    </tr>\n",
       "    <tr>\n",
       "      <th>4</th>\n",
       "      <td>190794</td>\n",
       "      <td>2015-02-18</td>\n",
       "      <td>Desktop</td>\n",
       "      <td>Female</td>\n",
       "      <td>home_page</td>\n",
       "    </tr>\n",
       "    <tr>\n",
       "      <th>...</th>\n",
       "      <td>...</td>\n",
       "      <td>...</td>\n",
       "      <td>...</td>\n",
       "      <td>...</td>\n",
       "      <td>...</td>\n",
       "    </tr>\n",
       "    <tr>\n",
       "      <th>142077</th>\n",
       "      <td>642989</td>\n",
       "      <td>2015-02-08</td>\n",
       "      <td>Desktop</td>\n",
       "      <td>Female</td>\n",
       "      <td>search_page</td>\n",
       "    </tr>\n",
       "    <tr>\n",
       "      <th>142078</th>\n",
       "      <td>659645</td>\n",
       "      <td>2015-04-13</td>\n",
       "      <td>Desktop</td>\n",
       "      <td>Male</td>\n",
       "      <td>home_page</td>\n",
       "    </tr>\n",
       "    <tr>\n",
       "      <th>142079</th>\n",
       "      <td>659645</td>\n",
       "      <td>2015-04-13</td>\n",
       "      <td>Desktop</td>\n",
       "      <td>Male</td>\n",
       "      <td>search_page</td>\n",
       "    </tr>\n",
       "    <tr>\n",
       "      <th>142080</th>\n",
       "      <td>359779</td>\n",
       "      <td>2015-03-23</td>\n",
       "      <td>Desktop</td>\n",
       "      <td>Male</td>\n",
       "      <td>home_page</td>\n",
       "    </tr>\n",
       "    <tr>\n",
       "      <th>142081</th>\n",
       "      <td>438929</td>\n",
       "      <td>2015-03-26</td>\n",
       "      <td>Mobile</td>\n",
       "      <td>Female</td>\n",
       "      <td>home_page</td>\n",
       "    </tr>\n",
       "  </tbody>\n",
       "</table>\n",
       "<p>142082 rows × 5 columns</p>\n",
       "</div>"
      ],
      "text/plain": [
       "        user_id        date   device     sex         page\n",
       "0        450007  2015-02-28  Desktop  Female    home_page\n",
       "1        756838  2015-01-13  Desktop    Male    home_page\n",
       "2        568983  2015-04-09  Desktop    Male    home_page\n",
       "3        568983  2015-04-09  Desktop    Male  search_page\n",
       "4        190794  2015-02-18  Desktop  Female    home_page\n",
       "...         ...         ...      ...     ...          ...\n",
       "142077   642989  2015-02-08  Desktop  Female  search_page\n",
       "142078   659645  2015-04-13  Desktop    Male    home_page\n",
       "142079   659645  2015-04-13  Desktop    Male  search_page\n",
       "142080   359779  2015-03-23  Desktop    Male    home_page\n",
       "142081   438929  2015-03-26   Mobile  Female    home_page\n",
       "\n",
       "[142082 rows x 5 columns]"
      ]
     },
     "execution_count": 35,
     "metadata": {},
     "output_type": "execute_result"
    }
   ],
   "source": [
    "base = user_table.merge(new_df, how='left', on='user_id')\n",
    "base"
   ]
  },
  {
   "cell_type": "code",
   "execution_count": 42,
   "metadata": {
    "scrolled": true
   },
   "outputs": [
    {
     "data": {
      "text/html": [
       "<div>\n",
       "<style scoped>\n",
       "    .dataframe tbody tr th:only-of-type {\n",
       "        vertical-align: middle;\n",
       "    }\n",
       "\n",
       "    .dataframe tbody tr th {\n",
       "        vertical-align: top;\n",
       "    }\n",
       "\n",
       "    .dataframe thead th {\n",
       "        text-align: right;\n",
       "    }\n",
       "</style>\n",
       "<table border=\"1\" class=\"dataframe\">\n",
       "  <thead>\n",
       "    <tr style=\"text-align: right;\">\n",
       "      <th></th>\n",
       "      <th>user_id</th>\n",
       "      <th>date</th>\n",
       "      <th>device</th>\n",
       "      <th>sex</th>\n",
       "      <th>page</th>\n",
       "    </tr>\n",
       "  </thead>\n",
       "  <tbody>\n",
       "    <tr>\n",
       "      <th>0</th>\n",
       "      <td>450007</td>\n",
       "      <td>2015-02-28</td>\n",
       "      <td>Desktop</td>\n",
       "      <td>Female</td>\n",
       "      <td>home_page</td>\n",
       "    </tr>\n",
       "    <tr>\n",
       "      <th>1</th>\n",
       "      <td>756838</td>\n",
       "      <td>2015-01-13</td>\n",
       "      <td>Desktop</td>\n",
       "      <td>Male</td>\n",
       "      <td>home_page</td>\n",
       "    </tr>\n",
       "    <tr>\n",
       "      <th>2</th>\n",
       "      <td>568983</td>\n",
       "      <td>2015-04-09</td>\n",
       "      <td>Desktop</td>\n",
       "      <td>Male</td>\n",
       "      <td>home_page</td>\n",
       "    </tr>\n",
       "    <tr>\n",
       "      <th>3</th>\n",
       "      <td>568983</td>\n",
       "      <td>2015-04-09</td>\n",
       "      <td>Desktop</td>\n",
       "      <td>Male</td>\n",
       "      <td>search_page</td>\n",
       "    </tr>\n",
       "    <tr>\n",
       "      <th>4</th>\n",
       "      <td>190794</td>\n",
       "      <td>2015-02-18</td>\n",
       "      <td>Desktop</td>\n",
       "      <td>Female</td>\n",
       "      <td>home_page</td>\n",
       "    </tr>\n",
       "    <tr>\n",
       "      <th>...</th>\n",
       "      <td>...</td>\n",
       "      <td>...</td>\n",
       "      <td>...</td>\n",
       "      <td>...</td>\n",
       "      <td>...</td>\n",
       "    </tr>\n",
       "    <tr>\n",
       "      <th>142077</th>\n",
       "      <td>642989</td>\n",
       "      <td>2015-02-08</td>\n",
       "      <td>Desktop</td>\n",
       "      <td>Female</td>\n",
       "      <td>search_page</td>\n",
       "    </tr>\n",
       "    <tr>\n",
       "      <th>142078</th>\n",
       "      <td>659645</td>\n",
       "      <td>2015-04-13</td>\n",
       "      <td>Desktop</td>\n",
       "      <td>Male</td>\n",
       "      <td>home_page</td>\n",
       "    </tr>\n",
       "    <tr>\n",
       "      <th>142079</th>\n",
       "      <td>659645</td>\n",
       "      <td>2015-04-13</td>\n",
       "      <td>Desktop</td>\n",
       "      <td>Male</td>\n",
       "      <td>search_page</td>\n",
       "    </tr>\n",
       "    <tr>\n",
       "      <th>142080</th>\n",
       "      <td>359779</td>\n",
       "      <td>2015-03-23</td>\n",
       "      <td>Desktop</td>\n",
       "      <td>Male</td>\n",
       "      <td>home_page</td>\n",
       "    </tr>\n",
       "    <tr>\n",
       "      <th>142081</th>\n",
       "      <td>438929</td>\n",
       "      <td>2015-03-26</td>\n",
       "      <td>Mobile</td>\n",
       "      <td>Female</td>\n",
       "      <td>home_page</td>\n",
       "    </tr>\n",
       "  </tbody>\n",
       "</table>\n",
       "<p>142082 rows × 5 columns</p>\n",
       "</div>"
      ],
      "text/plain": [
       "        user_id        date   device     sex         page\n",
       "0        450007  2015-02-28  Desktop  Female    home_page\n",
       "1        756838  2015-01-13  Desktop    Male    home_page\n",
       "2        568983  2015-04-09  Desktop    Male    home_page\n",
       "3        568983  2015-04-09  Desktop    Male  search_page\n",
       "4        190794  2015-02-18  Desktop  Female    home_page\n",
       "...         ...         ...      ...     ...          ...\n",
       "142077   642989  2015-02-08  Desktop  Female  search_page\n",
       "142078   659645  2015-04-13  Desktop    Male    home_page\n",
       "142079   659645  2015-04-13  Desktop    Male  search_page\n",
       "142080   359779  2015-03-23  Desktop    Male    home_page\n",
       "142081   438929  2015-03-26   Mobile  Female    home_page\n",
       "\n",
       "[142082 rows x 5 columns]"
      ]
     },
     "execution_count": 42,
     "metadata": {},
     "output_type": "execute_result"
    }
   ],
   "source": [
    "base"
   ]
  },
  {
   "cell_type": "code",
   "execution_count": 160,
   "metadata": {},
   "outputs": [],
   "source": [
    "user_table_spk = spark.createDataFrame(user_table)\n",
    "home_page_table_spk = spark.createDataFrame(home_page_table)\n",
    "search_page_table_spk = spark.createDataFrame(search_page_table)\n",
    "payment_page_table_spk = spark.createDataFrame(payment_page_table)\n",
    "payment_confirmation_table_spk = spark.createDataFrame(payment_confirmation_table)\n",
    "\n",
    "user_table_spk.createOrReplaceTempView(\"user_table_spk\")\n",
    "home_page_table_spk.createOrReplaceTempView(\"home_page_table_spk\")\n",
    "search_page_table_spk.createOrReplaceTempView(\"search_page_table_spk\")\n",
    "payment_page_table_spk.createOrReplaceTempView(\"payment_page_table_spk\")\n",
    "payment_confirmation_table_spk.createOrReplaceTempView(\"payment_confirmation_table_spk\")"
   ]
  },
  {
   "cell_type": "code",
   "execution_count": 162,
   "metadata": {},
   "outputs": [
    {
     "name": "stdout",
     "output_type": "stream",
     "text": [
      "+------+-----+-----+\n",
      "|  date| cnt1| cnt2|\n",
      "+------+-----+-----+\n",
      "|201503|22600|22600|\n",
      "|201502|22600|22600|\n",
      "|201504|22600|22600|\n",
      "|201501|22600|22600|\n",
      "+------+-----+-----+\n",
      "\n"
     ]
    }
   ],
   "source": [
    "consistency = spark.sql(\"\"\"\n",
    "\n",
    "    select date_format(a.date, 'yyyyMM') as date\n",
    "         , count(*) as cnt1\n",
    "         , count(distinct a.user_id) as cnt2\n",
    "    from user_table_spk a\n",
    "    group by 1\n",
    "\n",
    "    \"\"\")\n",
    "\n",
    "consistency.createOrReplaceTempView(\"consistency\")\n",
    "consistency.cache()\n",
    "consistency.show()"
   ]
  },
  {
   "cell_type": "code",
   "execution_count": 43,
   "metadata": {},
   "outputs": [],
   "source": [
    "# 퍼널 전체\n",
    "# 성별 퍼널\n",
    "# 디바이스별 퍼널\n",
    "# 성별 + 디바이스별 퍼널\n",
    "# 날짜별 퍼널"
   ]
  },
  {
   "cell_type": "code",
   "execution_count": 46,
   "metadata": {},
   "outputs": [],
   "source": [
    "# 퍼널 전체\n",
    "\n",
    "import pyspark\n",
    "from pyspark.sql import SparkSession, Row\n",
    "from pyspark.sql.functions import *\n",
    "from pyspark.sql.types import *\n",
    "\n",
    "spark = SparkSession.builder \\\n",
    "                    .master(\"local\") \\\n",
    "                    .appName(\"lol\") \\\n",
    "                    .enableHiveSupport() \\\n",
    "                    .getOrCreate()"
   ]
  },
  {
   "cell_type": "code",
   "execution_count": 52,
   "metadata": {},
   "outputs": [
    {
     "data": {
      "text/plain": [
       "DataFrame[user_id: bigint, date: string, device: string, sex: string, page: string]"
      ]
     },
     "execution_count": 52,
     "metadata": {},
     "output_type": "execute_result"
    }
   ],
   "source": [
    "base_sdf = spark.createDataFrame(base)\n",
    "base_sdf.createOrReplaceTempView(\"base_sdf\")\n",
    "base_sdf.cache()"
   ]
  },
  {
   "cell_type": "code",
   "execution_count": 64,
   "metadata": {
    "scrolled": true
   },
   "outputs": [
    {
     "name": "stdout",
     "output_type": "stream",
     "text": [
      "+--------------------+-----+-----+----------+\n",
      "|                page|  cnt|churn|churn_rate|\n",
      "+--------------------+-----+-----+----------+\n",
      "|           home_page|90400|45200|      50.0|\n",
      "|         search_page|45200|39170|     86.66|\n",
      "|        payment_page| 6030| 5578|      92.5|\n",
      "|payment_confirmat...|  452|    0|       0.0|\n",
      "+--------------------+-----+-----+----------+\n",
      "\n"
     ]
    }
   ],
   "source": [
    "funnel_general = spark.sql(\"\"\"\n",
    "\n",
    "    select t.*\n",
    "         , ifnull((t.cnt - sum(t.cnt) over(rows between 1 following and 1 following)), 0) as churn\n",
    "         , round(ifnull((t.cnt - sum(t.cnt) over(rows between 1 following and 1 following)), 0) / t.cnt * 100, 2) as churn_rate\n",
    "    from (\n",
    "        select a.page\n",
    "             , count(distinct a.user_id) as cnt\n",
    "        from base_sdf a\n",
    "        group by 1\n",
    "        order by 2 desc\n",
    "        ) t\n",
    "        \n",
    "    \"\"\")\n",
    "\n",
    "funnel_general.createOrReplaceTempView(\"funnel_general\")\n",
    "funnel_general.cache()\n",
    "funnel_general.show(5)"
   ]
  },
  {
   "cell_type": "code",
   "execution_count": 72,
   "metadata": {},
   "outputs": [
    {
     "name": "stdout",
     "output_type": "stream",
     "text": [
      "+------+--------------------+-----+-----+----------+\n",
      "|   sex|                page|  cnt|churn|churn_rate|\n",
      "+------+--------------------+-----+-----+----------+\n",
      "|Female|           home_page|45075|22399|     49.69|\n",
      "|Female|         search_page|22676|19576|     86.33|\n",
      "|Female|        payment_page| 3100| 2859|     92.23|\n",
      "|Female|payment_confirmat...|  241|    0|       0.0|\n",
      "|  Male|           home_page|45325|22801|     50.31|\n",
      "|  Male|         search_page|22524|19594|     86.99|\n",
      "|  Male|        payment_page| 2930| 2719|      92.8|\n",
      "|  Male|payment_confirmat...|  211|    0|       0.0|\n",
      "+------+--------------------+-----+-----+----------+\n",
      "\n"
     ]
    }
   ],
   "source": [
    "funnel_gender = spark.sql(\"\"\"\n",
    "\n",
    "   select t.*\n",
    "        , ifnull(t.cnt - sum(t.cnt) over(partition by t.sex rows between 1 following and 1 following), 0) as churn \n",
    "        , round(ifnull(t.cnt - sum(t.cnt) over(partition by t.sex rows between 1 following and 1 following), 0) / t.cnt * 100, 2) as churn_rate\n",
    "   from (\n",
    "        select a.sex\n",
    "             , a.page\n",
    "             , count(distinct a.user_id) as cnt\n",
    "        from base_sdf a\n",
    "        group by 1, 2\n",
    "        order by 1, 3 desc\n",
    "        ) t\n",
    "        \n",
    "    \"\"\")\n",
    "\n",
    "funnel_gender.createOrReplaceTempView(\"funnel_gender\")\n",
    "funnel_gender.cache()\n",
    "funnel_gender.show()"
   ]
  },
  {
   "cell_type": "code",
   "execution_count": 73,
   "metadata": {},
   "outputs": [
    {
     "name": "stdout",
     "output_type": "stream",
     "text": [
      "+-------+--------------------+-----+-----+----------+\n",
      "| device|                page|  cnt|churn|churn_rate|\n",
      "+-------+--------------------+-----+-----+----------+\n",
      "| Mobile|           home_page|30200|15100|      50.0|\n",
      "| Mobile|         search_page|15100|12080|      80.0|\n",
      "| Mobile|        payment_page| 3020| 2718|      90.0|\n",
      "| Mobile|payment_confirmat...|  302|    0|       0.0|\n",
      "|Desktop|           home_page|60200|30100|      50.0|\n",
      "|Desktop|         search_page|30100|27090|      90.0|\n",
      "|Desktop|        payment_page| 3010| 2860|     95.02|\n",
      "|Desktop|payment_confirmat...|  150|    0|       0.0|\n",
      "+-------+--------------------+-----+-----+----------+\n",
      "\n"
     ]
    }
   ],
   "source": [
    "funnel_device = spark.sql(\"\"\"\n",
    "\n",
    "   select t.*\n",
    "        , ifnull(t.cnt - sum(t.cnt) over(partition by t.device rows between 1 following and 1 following), 0) as churn \n",
    "        , round(ifnull(t.cnt - sum(t.cnt) over(partition by t.device rows between 1 following and 1 following), 0) / t.cnt * 100, 2) as churn_rate\n",
    "   from (\n",
    "        select a.device\n",
    "             , a.page\n",
    "             , count(distinct a.user_id) as cnt\n",
    "        from base_sdf a\n",
    "        group by 1, 2\n",
    "        order by 1, 3 desc\n",
    "        ) t\n",
    "        \n",
    "    \"\"\")\n",
    "\n",
    "funnel_device.createOrReplaceTempView(\"funnel_device\")\n",
    "funnel_device.cache()\n",
    "funnel_device.show()"
   ]
  },
  {
   "cell_type": "code",
   "execution_count": 96,
   "metadata": {},
   "outputs": [
    {
     "name": "stdout",
     "output_type": "stream",
     "text": [
      "+-------+------+--------------------+-----+-----+----------+--------------+\n",
      "| device|   sex|                page|  cnt|churn|churn_rate| device_gender|\n",
      "+-------+------+--------------------+-----+-----+----------+--------------+\n",
      "|Desktop|Female|           home_page|29997|14906|     49.69|Desktop_Female|\n",
      "|Desktop|Female|         search_page|15091|13561|     89.86|Desktop_Female|\n",
      "|Desktop|Female|        payment_page| 1530| 1456|     95.16|Desktop_Female|\n",
      "|Desktop|Female|payment_confirmat...|   74|    0|       0.0|Desktop_Female|\n",
      "|Desktop|  Male|           home_page|30203|15194|     50.31|  Desktop_Male|\n",
      "|Desktop|  Male|         search_page|15009|13529|     90.14|  Desktop_Male|\n",
      "|Desktop|  Male|        payment_page| 1480| 1404|     94.86|  Desktop_Male|\n",
      "|Desktop|  Male|payment_confirmat...|   76|    0|       0.0|  Desktop_Male|\n",
      "| Mobile|  Male|           home_page|15122| 7607|      50.3|   Mobile_Male|\n",
      "| Mobile|  Male|         search_page| 7515| 6065|     80.71|   Mobile_Male|\n",
      "| Mobile|  Male|        payment_page| 1450| 1315|     90.69|   Mobile_Male|\n",
      "| Mobile|  Male|payment_confirmat...|  135|    0|       0.0|   Mobile_Male|\n",
      "| Mobile|Female|           home_page|15078| 7493|     49.69| Mobile_Female|\n",
      "| Mobile|Female|         search_page| 7585| 6015|      79.3| Mobile_Female|\n",
      "| Mobile|Female|        payment_page| 1570| 1403|     89.36| Mobile_Female|\n",
      "| Mobile|Female|payment_confirmat...|  167|    0|       0.0| Mobile_Female|\n",
      "+-------+------+--------------------+-----+-----+----------+--------------+\n",
      "\n"
     ]
    }
   ],
   "source": [
    "funnel_gender_and_device = spark.sql(\"\"\"\n",
    "\n",
    "  select t.*\n",
    "       , ifnull(t.cnt - sum(t.cnt) over(partition by t.device, t.sex rows between 1 following and 1 following), 0) as churn \n",
    "       , round(ifnull(t.cnt - sum(t.cnt) over(partition by t.device, t.sex rows between 1 following and 1 following), 0) / t.cnt * 100, 2) as churn_rate\n",
    "       , concat(t.device, \"_\", t.sex) as device_gender\n",
    "from (\n",
    "        select a.device\n",
    "             , a.sex\n",
    "             , a.page\n",
    "             , count(distinct a.user_id) as cnt\n",
    "        from base_sdf a\n",
    "        group by 1, 2, 3\n",
    "        order by 1, 2, 4 desc\n",
    "        ) t\n",
    "        \n",
    "    \"\"\")\n",
    "\n",
    "funnel_gender_and_device.createOrReplaceTempView(\"funnel_gender_and_device\")\n",
    "funnel_gender_and_device.cache()\n",
    "funnel_gender_and_device.show()"
   ]
  },
  {
   "cell_type": "code",
   "execution_count": 153,
   "metadata": {},
   "outputs": [
    {
     "data": {
      "image/png": "[encoded data removed]",
      "text/plain": [
       "<Figure size 864x432 with 1 Axes>"
      ]
     },
     "metadata": {},
     "output_type": "display_data"
    }
   ],
   "source": [
    "funnel_gender_and_device_pd = funnel_gender_and_device.toPandas()\n",
    "funnel_gender_and_device_pd\n",
    "\n",
    "plt.style.use('dark_background')\n",
    "fig, ax = plt.subplots(nrows=1, ncols=1, figsize=(12,6))\n",
    "sns.lineplot(x='page', y='cnt', hue='device_gender', data=funnel_gender_and_device_pd)\n",
    "ax.set_title(\"Funnel by gender and device\", fontsize=20)\n",
    "ax.set_xlabel(\"page\", fontsize=16)\n",
    "ax.set_ylabel(\"number of customers\", fontsize=16)\n",
    "plt.tight_layout()\n",
    "plt.legend(loc=1, fontsize=14)\n",
    "plt.show()\n",
    "\n",
    "# 라인 겹치는 부분 확인할 것"
   ]
  },
  {
   "cell_type": "code",
   "execution_count": 163,
   "metadata": {},
   "outputs": [
    {
     "name": "stdout",
     "output_type": "stream",
     "text": [
      "+------+-------+--------------+--------------+-----+\n",
      "|std_ym| device|  device_month|          page|  cnt|\n",
      "+------+-------+--------------+--------------+-----+\n",
      "|201501|Desktop|Desktop_201501|    1.homepage|15050|\n",
      "|201502|Desktop|Desktop_201502|    1.homepage|15050|\n",
      "|201503|Desktop|Desktop_201503|    1.homepage|15050|\n",
      "|201504|Desktop|Desktop_201504|    1.homepage|15050|\n",
      "|201501| Mobile| Mobile_201501|    1.homepage| 7550|\n",
      "|201502| Mobile| Mobile_201502|    1.homepage| 7550|\n",
      "|201503| Mobile| Mobile_201503|    1.homepage| 7550|\n",
      "|201504| Mobile| Mobile_201504|    1.homepage| 7550|\n",
      "|201501|Desktop|Desktop_201501|      2.search| 7529|\n",
      "|201502|Desktop|Desktop_201502|      2.search| 7632|\n",
      "|201503|Desktop|Desktop_201503|      2.search| 7370|\n",
      "|201504|Desktop|Desktop_201504|      2.search| 7569|\n",
      "|201501| Mobile| Mobile_201501|      2.search| 6025|\n",
      "|201502| Mobile| Mobile_201502|      2.search| 6055|\n",
      "|201503| Mobile| Mobile_201503|      2.search| 1509|\n",
      "|201504| Mobile| Mobile_201504|      2.search| 1511|\n",
      "|201501|Desktop|Desktop_201501|     3.payment| 1221|\n",
      "|201502|Desktop|Desktop_201502|     3.payment| 1191|\n",
      "|201503|Desktop|Desktop_201503|     3.payment|  296|\n",
      "|201504|Desktop|Desktop_201504|     3.payment|  302|\n",
      "|201501| Mobile| Mobile_201501|     3.payment| 1169|\n",
      "|201502| Mobile| Mobile_201502|     3.payment| 1221|\n",
      "|201503| Mobile| Mobile_201503|     3.payment|  335|\n",
      "|201504| Mobile| Mobile_201504|     3.payment|  295|\n",
      "|201501|Desktop|Desktop_201501|4.confirmation|   60|\n",
      "|201502|Desktop|Desktop_201502|4.confirmation|   54|\n",
      "|201503|Desktop|Desktop_201503|4.confirmation|   14|\n",
      "|201504|Desktop|Desktop_201504|4.confirmation|   22|\n",
      "|201501| Mobile| Mobile_201501|4.confirmation|  129|\n",
      "|201502| Mobile| Mobile_201502|4.confirmation|  119|\n",
      "+------+-------+--------------+--------------+-----+\n",
      "only showing top 30 rows\n",
      "\n"
     ]
    }
   ],
   "source": [
    "funnel_timeseries = spark.sql(\"\"\"\n",
    "\n",
    "    select t.std_ym\n",
    "         , t.device\n",
    "         , concat(t.device, \"_\", t.std_ym) as device_month\n",
    "         , case when t.page = 'home_page' then '1.homepage'\n",
    "                when t.page = 'search_page' then '2.search'\n",
    "                when t.page = 'payment_page' then '3.payment'\n",
    "                when t.page = 'payment_confirmation_page' then '4.confirmation'\n",
    "                end as page\n",
    "         , count(t.user_id) as cnt\n",
    "    from (\n",
    "        select a.user_id\n",
    "             , a.date\n",
    "             , date_format(a.date, 'yyyyMM') as std_ym\n",
    "             , a.device\n",
    "             , a.sex\n",
    "             , a.page\n",
    "        from base_sdf a\n",
    "        ) t\n",
    "    group by 1, 2, 3, 4\n",
    "    order by 4, 3\n",
    "         \n",
    "    \"\"\")\n",
    "\n",
    "funnel_timeseries.createOrReplaceTempView(\"funnel_timeseries\")\n",
    "funnel_timeseries.cache()\n",
    "funnel_timeseries.show(30)"
   ]
  },
  {
   "cell_type": "code",
   "execution_count": 164,
   "metadata": {},
   "outputs": [
    {
     "data": {
      "text/plain": [
       "22600"
      ]
     },
     "execution_count": 164,
     "metadata": {},
     "output_type": "execute_result"
    }
   ],
   "source": [
    "15050 + 7550 "
   ]
  },
  {
   "cell_type": "code",
   "execution_count": 149,
   "metadata": {},
   "outputs": [
    {
     "data": {
      "image/png": "[encoded data removed]",
      "text/plain": [
       "<Figure size 864x432 with 1 Axes>"
      ]
     },
     "metadata": {},
     "output_type": "display_data"
    }
   ],
   "source": [
    "funnel_timeseries_pd = funnel_timeseries.toPandas()\n",
    "funnel_timeseries_pd \n",
    "\n",
    "plt.style.use('dark_background')\n",
    "fig, ax = plt.subplots(nrows=1, ncols=1, figsize=(12,6))\n",
    "sns.barplot(x='page', y='cnt', hue='device_month', data=funnel_timeseries_pd, ci=None)\n",
    "ax.set_title(\"Funnel by gender and device (Time Series)\", fontsize=20)\n",
    "ax.set_xlabel(\"month\", fontsize=16)\n",
    "ax.set_ylabel(\"number of customers\", fontsize=16)\n",
    "plt.tight_layout()\n",
    "plt.legend(bbox_to_anchor=(1.01, 1), loc='upper left', borderaxespad=0, fontsize=14)\n",
    "plt.show()"
   ]
  },
  {
   "cell_type": "markdown",
   "metadata": {},
   "source": [
    "### Visit counts\n",
    "\n",
    "By device: \n",
    "From March on there is a clear decline of visits from the mobile devices on the Search page and onwards. \n",
    "Again from March on, the Payment page sees less visitors than in the past, considering that the Home page visits remain on previous levels.\n",
    "\n",
    "By gender:\n",
    "The dip in March is visible here too. Nevertheless the balance between male and female customers is kept to roughly 50/50."
   ]
  },
  {
   "cell_type": "markdown",
   "metadata": {},
   "source": [
    "### Percentages\n",
    "\n",
    "By device:\n",
    "Several things could be marked from the figures above:\n",
    "\n",
    "Until March the mobile version of the website had better conversion rates than the Desktop version even though its absolute values were lower.\n",
    "Even after March the convertion rate of the Search-to-Payment-to-Confirmation page remains the same, the conversion from Home-to-Search page drops dramatically.\n",
    "On the other hand, the Desktop registers a drop in the conversion from Search to Payment.\n",
    "\n",
    "By gender:\n",
    "The figures above signify that there are no significant differences between M/F customers. They experience the same dips in conversion rates which may highlight that they are related to the appearence of the website and inappropriate guidance of the users rather than some gender related issue."
   ]
  },
  {
   "cell_type": "markdown",
   "metadata": {},
   "source": [
    "# Conclusions\n",
    "\n",
    "Some final observations to conclude the analysis with are:\n",
    "\n",
    "The desktop version had lower Search-Payment-Confirmation conversion rate than the mobile one but only up to the end of February.\n",
    "From March on the mobile version’s Home-Search page conversion fell dramatically and even though it sustained the same amount of home page visitors it could not register improvements.\n",
    "From March on the Search-Payment pages convertion rate for the desktop version of the website also fell which led to a decrease of the visits of subsequent pages too.\n",
    "The datasets consists of one time users only, which in reality would never be the case."
   ]
  },
  {
   "cell_type": "code",
   "execution_count": null,
   "metadata": {},
   "outputs": [],
   "source": []
  }
 ],
 "metadata": {
  "kernelspec": {
   "display_name": "Python 3",
   "language": "python",
   "name": "python3"
  },
  "language_info": {
   "codemirror_mode": {
    "name": "ipython",
    "version": 3
   },
   "file_extension": ".py",
   "mimetype": "text/x-python",
   "name": "python",
   "nbconvert_exporter": "python",
   "pygments_lexer": "ipython3",
   "version": "3.7.6"
  }
 },
 "nbformat": 4,
 "nbformat_minor": 4
}
